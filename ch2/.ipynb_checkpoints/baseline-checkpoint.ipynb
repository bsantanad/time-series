{
 "cells": [
  {
   "cell_type": "markdown",
   "id": "90dc371a",
   "metadata": {},
   "source": [
    "# time series (baseline)"
   ]
  },
  {
   "cell_type": "code",
   "execution_count": 1,
   "id": "2dee2c57",
   "metadata": {},
   "outputs": [],
   "source": [
    "import pandas as pd\n",
    "import numpy as np\n",
    "import matplotlib.pyplot as plt"
   ]
  },
  {
   "cell_type": "markdown",
   "id": "fb617c1e",
   "metadata": {},
   "source": [
    "## given a dataset establish a naive baseline"
   ]
  },
  {
   "cell_type": "markdown",
   "id": "55d345b9",
   "metadata": {},
   "source": [
    "here we are using the stock price of johnson and johnson from 1960 to 1980. We want to predict the price for 1980, but before using time series, we want to do a baseline. Which is basically a naive prediction, using simple statistics and heuristics."
   ]
  },
  {
   "cell_type": "code",
   "execution_count": 2,
   "id": "d386f411",
   "metadata": {},
   "outputs": [],
   "source": [
    "df = pd.read_csv('jj.csv')"
   ]
  },
  {
   "cell_type": "code",
   "execution_count": 3,
   "id": "643f6842",
   "metadata": {},
   "outputs": [
    {
     "data": {
      "text/html": [
       "<div>\n",
       "<style scoped>\n",
       "    .dataframe tbody tr th:only-of-type {\n",
       "        vertical-align: middle;\n",
       "    }\n",
       "\n",
       "    .dataframe tbody tr th {\n",
       "        vertical-align: top;\n",
       "    }\n",
       "\n",
       "    .dataframe thead th {\n",
       "        text-align: right;\n",
       "    }\n",
       "</style>\n",
       "<table border=\"1\" class=\"dataframe\">\n",
       "  <thead>\n",
       "    <tr style=\"text-align: right;\">\n",
       "      <th></th>\n",
       "      <th>date</th>\n",
       "      <th>data</th>\n",
       "    </tr>\n",
       "  </thead>\n",
       "  <tbody>\n",
       "    <tr>\n",
       "      <th>0</th>\n",
       "      <td>1960-01-01</td>\n",
       "      <td>0.71</td>\n",
       "    </tr>\n",
       "    <tr>\n",
       "      <th>1</th>\n",
       "      <td>1960-04-01</td>\n",
       "      <td>0.63</td>\n",
       "    </tr>\n",
       "    <tr>\n",
       "      <th>2</th>\n",
       "      <td>1960-07-02</td>\n",
       "      <td>0.85</td>\n",
       "    </tr>\n",
       "    <tr>\n",
       "      <th>3</th>\n",
       "      <td>1960-10-01</td>\n",
       "      <td>0.44</td>\n",
       "    </tr>\n",
       "    <tr>\n",
       "      <th>4</th>\n",
       "      <td>1961-01-01</td>\n",
       "      <td>0.61</td>\n",
       "    </tr>\n",
       "  </tbody>\n",
       "</table>\n",
       "</div>"
      ],
      "text/plain": [
       "         date  data\n",
       "0  1960-01-01  0.71\n",
       "1  1960-04-01  0.63\n",
       "2  1960-07-02  0.85\n",
       "3  1960-10-01  0.44\n",
       "4  1961-01-01  0.61"
      ]
     },
     "execution_count": 3,
     "metadata": {},
     "output_type": "execute_result"
    }
   ],
   "source": [
    "df.head()"
   ]
  },
  {
   "cell_type": "markdown",
   "id": "ebbf3149",
   "metadata": {},
   "source": [
    "split the dataset into train and test"
   ]
  },
  {
   "cell_type": "code",
   "execution_count": 4,
   "id": "c19cb892",
   "metadata": {},
   "outputs": [
    {
     "data": {
      "text/html": [
       "<div>\n",
       "<style scoped>\n",
       "    .dataframe tbody tr th:only-of-type {\n",
       "        vertical-align: middle;\n",
       "    }\n",
       "\n",
       "    .dataframe tbody tr th {\n",
       "        vertical-align: top;\n",
       "    }\n",
       "\n",
       "    .dataframe thead th {\n",
       "        text-align: right;\n",
       "    }\n",
       "</style>\n",
       "<table border=\"1\" class=\"dataframe\">\n",
       "  <thead>\n",
       "    <tr style=\"text-align: right;\">\n",
       "      <th></th>\n",
       "      <th>date</th>\n",
       "      <th>data</th>\n",
       "    </tr>\n",
       "  </thead>\n",
       "  <tbody>\n",
       "    <tr>\n",
       "      <th>79</th>\n",
       "      <td>1979-10-01</td>\n",
       "      <td>9.99</td>\n",
       "    </tr>\n",
       "    <tr>\n",
       "      <th>80</th>\n",
       "      <td>1980-01-01</td>\n",
       "      <td>16.20</td>\n",
       "    </tr>\n",
       "    <tr>\n",
       "      <th>81</th>\n",
       "      <td>1980-04-01</td>\n",
       "      <td>14.67</td>\n",
       "    </tr>\n",
       "    <tr>\n",
       "      <th>82</th>\n",
       "      <td>1980-07-02</td>\n",
       "      <td>16.02</td>\n",
       "    </tr>\n",
       "    <tr>\n",
       "      <th>83</th>\n",
       "      <td>1980-10-01</td>\n",
       "      <td>11.61</td>\n",
       "    </tr>\n",
       "  </tbody>\n",
       "</table>\n",
       "</div>"
      ],
      "text/plain": [
       "          date   data\n",
       "79  1979-10-01   9.99\n",
       "80  1980-01-01  16.20\n",
       "81  1980-04-01  14.67\n",
       "82  1980-07-02  16.02\n",
       "83  1980-10-01  11.61"
      ]
     },
     "execution_count": 4,
     "metadata": {},
     "output_type": "execute_result"
    }
   ],
   "source": [
    "df.tail()"
   ]
  },
  {
   "cell_type": "code",
   "execution_count": 5,
   "id": "f144202d",
   "metadata": {},
   "outputs": [],
   "source": [
    "train = df[:-4]\n",
    "test = df[-4:]"
   ]
  },
  {
   "cell_type": "markdown",
   "id": "3ee34a8e",
   "metadata": {},
   "source": [
    "## historical mean baseline"
   ]
  },
  {
   "cell_type": "code",
   "execution_count": 6,
   "id": "be9c640e",
   "metadata": {},
   "outputs": [],
   "source": [
    "historical_mean = np.mean(train['data'])"
   ]
  },
  {
   "cell_type": "code",
   "execution_count": 7,
   "id": "8d9ae1f3",
   "metadata": {},
   "outputs": [
    {
     "data": {
      "text/plain": [
       "4.308499987499999"
      ]
     },
     "execution_count": 7,
     "metadata": {},
     "output_type": "execute_result"
    }
   ],
   "source": [
    "historical_mean"
   ]
  },
  {
   "cell_type": "markdown",
   "id": "2fdf520a",
   "metadata": {},
   "source": [
    "we will naively forecast this value for each quarter of 1980"
   ]
  },
  {
   "cell_type": "code",
   "execution_count": 8,
   "id": "dfccc333",
   "metadata": {},
   "outputs": [
    {
     "name": "stderr",
     "output_type": "stream",
     "text": [
      "/var/folders/5r/60f9npy54bz3_gzp5pkztxzw0000gn/T/ipykernel_9149/3433673524.py:1: SettingWithCopyWarning: \n",
      "A value is trying to be set on a copy of a slice from a DataFrame.\n",
      "Try using .loc[row_indexer,col_indexer] = value instead\n",
      "\n",
      "See the caveats in the documentation: https://pandas.pydata.org/pandas-docs/stable/user_guide/indexing.html#returning-a-view-versus-a-copy\n",
      "  test.loc[:, 'pred_mean'] = historical_mean\n"
     ]
    }
   ],
   "source": [
    "test.loc[:, 'pred_mean'] = historical_mean"
   ]
  },
  {
   "cell_type": "markdown",
   "id": "998d35e2",
   "metadata": {},
   "source": [
    "we need to define and calculate an error metric in order to evealuate the performance of our forecasts on the test set"
   ]
  },
  {
   "cell_type": "code",
   "execution_count": 9,
   "id": "8199def4",
   "metadata": {},
   "outputs": [
    {
     "data": {
      "text/html": [
       "<div>\n",
       "<style scoped>\n",
       "    .dataframe tbody tr th:only-of-type {\n",
       "        vertical-align: middle;\n",
       "    }\n",
       "\n",
       "    .dataframe tbody tr th {\n",
       "        vertical-align: top;\n",
       "    }\n",
       "\n",
       "    .dataframe thead th {\n",
       "        text-align: right;\n",
       "    }\n",
       "</style>\n",
       "<table border=\"1\" class=\"dataframe\">\n",
       "  <thead>\n",
       "    <tr style=\"text-align: right;\">\n",
       "      <th></th>\n",
       "      <th>date</th>\n",
       "      <th>data</th>\n",
       "      <th>pred_mean</th>\n",
       "    </tr>\n",
       "  </thead>\n",
       "  <tbody>\n",
       "    <tr>\n",
       "      <th>80</th>\n",
       "      <td>1980-01-01</td>\n",
       "      <td>16.20</td>\n",
       "      <td>4.3085</td>\n",
       "    </tr>\n",
       "    <tr>\n",
       "      <th>81</th>\n",
       "      <td>1980-04-01</td>\n",
       "      <td>14.67</td>\n",
       "      <td>4.3085</td>\n",
       "    </tr>\n",
       "    <tr>\n",
       "      <th>82</th>\n",
       "      <td>1980-07-02</td>\n",
       "      <td>16.02</td>\n",
       "      <td>4.3085</td>\n",
       "    </tr>\n",
       "    <tr>\n",
       "      <th>83</th>\n",
       "      <td>1980-10-01</td>\n",
       "      <td>11.61</td>\n",
       "      <td>4.3085</td>\n",
       "    </tr>\n",
       "  </tbody>\n",
       "</table>\n",
       "</div>"
      ],
      "text/plain": [
       "          date   data  pred_mean\n",
       "80  1980-01-01  16.20     4.3085\n",
       "81  1980-04-01  14.67     4.3085\n",
       "82  1980-07-02  16.02     4.3085\n",
       "83  1980-10-01  11.61     4.3085"
      ]
     },
     "execution_count": 9,
     "metadata": {},
     "output_type": "execute_result"
    }
   ],
   "source": [
    "test"
   ]
  },
  {
   "cell_type": "markdown",
   "id": "efdf0d15",
   "metadata": {},
   "source": [
    "we will use MAPE (mean absolute percentage error) to see how well our baseline did"
   ]
  },
  {
   "cell_type": "code",
   "execution_count": 10,
   "id": "80ee119d",
   "metadata": {},
   "outputs": [],
   "source": [
    "def mape(y_true, y_pred):\n",
    "    return np.mean(\n",
    "        np.abs((y_true - y_pred) / y_true) * 100\n",
    "    )"
   ]
  },
  {
   "cell_type": "code",
   "execution_count": 11,
   "id": "6ad2de72",
   "metadata": {},
   "outputs": [],
   "source": [
    "mape_hist_mean = mape(test['data'], test['pred_mean'])"
   ]
  },
  {
   "cell_type": "code",
   "execution_count": 12,
   "id": "751ab2a2",
   "metadata": {},
   "outputs": [
    {
     "data": {
      "text/plain": [
       "70.00752579965119"
      ]
     },
     "execution_count": 12,
     "metadata": {},
     "output_type": "execute_result"
    }
   ],
   "source": [
    "mape_hist_mean"
   ]
  },
  {
   "cell_type": "markdown",
   "id": "336bfcf5",
   "metadata": {},
   "source": [
    "this means that our baseline deviates by 70% on average from the observed quarterly EPS of j&j in 1980. What does this mean? Let us visualize it"
   ]
  },
  {
   "cell_type": "code",
   "execution_count": 13,
   "id": "9bd125f8",
   "metadata": {},
   "outputs": [
    {
     "data": {
      "image/png": "[encoded data removed]",
      "text/plain": [
       "<Figure size 640x480 with 1 Axes>"
      ]
     },
     "metadata": {},
     "output_type": "display_data"
    }
   ],
   "source": [
    "fig, ax = plt.subplots()\n",
    "\n",
    "ax.plot(train['date'], train['data'], 'g-.', label = 'train')\n",
    "ax.plot(test['date'], test['data'], 'b-', label = 'test')\n",
    "ax.plot(test['date'], test['pred_mean'], 'r--', label = 'predicted')\n",
    "ax.set_xlabel('date')\n",
    "ax.set_ylabel('earnings per share (usb)')\n",
    "\n",
    "# 80 to 83 beacuse check df.tail\n",
    "ax.axvspan(80, 83, color = '#808080', alpha = 0.2)\n",
    "ax.legend(loc = 2)\n",
    "\n",
    "plt.xticks(\n",
    "    np.arange(0, 85, 8), \n",
    "    [1960, 1962, 1964, 1966, 1968, 1970, 1972, 1974, 1976, 1978, 1980]\n",
    ")\n",
    "\n",
    "fig.autofmt_xdate()\n",
    "plt.tight_layout()"
   ]
  },
  {
   "cell_type": "markdown",
   "id": "a987f781",
   "metadata": {},
   "source": [
    "our forecast, on average, was 70% below the actual EPS so it is not really helpful"
   ]
  },
  {
   "cell_type": "markdown",
   "id": "2c651a9a",
   "metadata": {},
   "source": [
    "### improving our baseline"
   ]
  },
  {
   "cell_type": "markdown",
   "id": "8bb045d2",
   "metadata": {},
   "source": [
    "we can do calculate the mean but for the last year only"
   ]
  },
  {
   "cell_type": "code",
   "execution_count": 14,
   "id": "036fc4cf",
   "metadata": {},
   "outputs": [],
   "source": [
    "last_year_mean = np.mean(train.data[-4:])"
   ]
  },
  {
   "cell_type": "code",
   "execution_count": 15,
   "id": "e95cf9e1",
   "metadata": {},
   "outputs": [
    {
     "data": {
      "text/plain": [
       "12.96"
      ]
     },
     "execution_count": 15,
     "metadata": {},
     "output_type": "execute_result"
    }
   ],
   "source": [
    "last_year_mean"
   ]
  },
  {
   "cell_type": "code",
   "execution_count": 16,
   "id": "09f24d60",
   "metadata": {},
   "outputs": [
    {
     "name": "stderr",
     "output_type": "stream",
     "text": [
      "/var/folders/5r/60f9npy54bz3_gzp5pkztxzw0000gn/T/ipykernel_9149/2174950709.py:1: SettingWithCopyWarning: \n",
      "A value is trying to be set on a copy of a slice from a DataFrame.\n",
      "Try using .loc[row_indexer,col_indexer] = value instead\n",
      "\n",
      "See the caveats in the documentation: https://pandas.pydata.org/pandas-docs/stable/user_guide/indexing.html#returning-a-view-versus-a-copy\n",
      "  test.loc[:, 'pred_last_yr_mean'] = last_year_mean\n"
     ]
    }
   ],
   "source": [
    "test.loc[:, 'pred_last_yr_mean'] = last_year_mean"
   ]
  },
  {
   "cell_type": "code",
   "execution_count": 19,
   "id": "b080df84",
   "metadata": {},
   "outputs": [
    {
     "data": {
      "text/html": [
       "<div>\n",
       "<style scoped>\n",
       "    .dataframe tbody tr th:only-of-type {\n",
       "        vertical-align: middle;\n",
       "    }\n",
       "\n",
       "    .dataframe tbody tr th {\n",
       "        vertical-align: top;\n",
       "    }\n",
       "\n",
       "    .dataframe thead th {\n",
       "        text-align: right;\n",
       "    }\n",
       "</style>\n",
       "<table border=\"1\" class=\"dataframe\">\n",
       "  <thead>\n",
       "    <tr style=\"text-align: right;\">\n",
       "      <th></th>\n",
       "      <th>date</th>\n",
       "      <th>data</th>\n",
       "      <th>pred_mean</th>\n",
       "      <th>pred_last_yr_mean</th>\n",
       "    </tr>\n",
       "  </thead>\n",
       "  <tbody>\n",
       "    <tr>\n",
       "      <th>80</th>\n",
       "      <td>1980-01-01</td>\n",
       "      <td>16.20</td>\n",
       "      <td>4.3085</td>\n",
       "      <td>12.96</td>\n",
       "    </tr>\n",
       "    <tr>\n",
       "      <th>81</th>\n",
       "      <td>1980-04-01</td>\n",
       "      <td>14.67</td>\n",
       "      <td>4.3085</td>\n",
       "      <td>12.96</td>\n",
       "    </tr>\n",
       "    <tr>\n",
       "      <th>82</th>\n",
       "      <td>1980-07-02</td>\n",
       "      <td>16.02</td>\n",
       "      <td>4.3085</td>\n",
       "      <td>12.96</td>\n",
       "    </tr>\n",
       "    <tr>\n",
       "      <th>83</th>\n",
       "      <td>1980-10-01</td>\n",
       "      <td>11.61</td>\n",
       "      <td>4.3085</td>\n",
       "      <td>12.96</td>\n",
       "    </tr>\n",
       "  </tbody>\n",
       "</table>\n",
       "</div>"
      ],
      "text/plain": [
       "          date   data  pred_mean  pred_last_yr_mean\n",
       "80  1980-01-01  16.20     4.3085              12.96\n",
       "81  1980-04-01  14.67     4.3085              12.96\n",
       "82  1980-07-02  16.02     4.3085              12.96\n",
       "83  1980-10-01  11.61     4.3085              12.96"
      ]
     },
     "execution_count": 19,
     "metadata": {},
     "output_type": "execute_result"
    }
   ],
   "source": [
    "test"
   ]
  },
  {
   "cell_type": "code",
   "execution_count": 21,
   "id": "2aca1260",
   "metadata": {},
   "outputs": [
    {
     "data": {
      "text/plain": [
       "15.596368072510302"
      ]
     },
     "execution_count": 21,
     "metadata": {},
     "output_type": "execute_result"
    }
   ],
   "source": [
    "mape_last_year_mean = mape(test['data'], test['pred_last_yr_mean'])\n",
    "mape_last_year_mean"
   ]
  },
  {
   "cell_type": "code",
   "execution_count": 18,
   "id": "44a468c9",
   "metadata": {},
   "outputs": [
    {
     "data": {
      "image/png": "[encoded data removed]",
      "text/plain": [
       "<Figure size 640x480 with 1 Axes>"
      ]
     },
     "metadata": {},
     "output_type": "display_data"
    }
   ],
   "source": [
    "fig, ax = plt.subplots()\n",
    "\n",
    "ax.plot(train['date'], train['data'], 'g-.', label = 'train')\n",
    "ax.plot(test['date'], test['data'], 'b-', label = 'test')\n",
    "ax.plot(test['date'], test['pred_last_yr_mean'], 'r--', label = 'predicted')\n",
    "ax.set_xlabel('date')\n",
    "ax.set_ylabel('earnings per share (usb)')\n",
    "\n",
    "# 80 to 83 beacuse check df.tail\n",
    "ax.axvspan(80, 83, color = '#808080', alpha = 0.2)\n",
    "ax.legend(loc = 2)\n",
    "\n",
    "plt.xticks(\n",
    "    np.arange(0, 85, 8), \n",
    "    [1960, 1962, 1964, 1966, 1968, 1970, 1972, 1974, 1976, 1978, 1980]\n",
    ")\n",
    "\n",
    "fig.autofmt_xdate()\n",
    "plt.tight_layout()"
   ]
  },
  {
   "cell_type": "markdown",
   "id": "046e79e1",
   "metadata": {},
   "source": [
    "that is how 15% MAPE looks like. It looks way better than the when taking into account the whole year"
   ]
  },
  {
   "cell_type": "markdown",
   "id": "eae37497",
   "metadata": {},
   "source": [
    "we can learn from this baseline that future values likely depend on past values that are not too far back in history"
   ]
  },
  {
   "cell_type": "markdown",
   "id": "3c01898b",
   "metadata": {},
   "source": [
    "## another baseline, predict using the last known value"
   ]
  },
  {
   "cell_type": "code",
   "execution_count": 23,
   "id": "c382c442",
   "metadata": {},
   "outputs": [
    {
     "data": {
      "text/plain": [
       "9.99"
      ]
     },
     "execution_count": 23,
     "metadata": {},
     "output_type": "execute_result"
    }
   ],
   "source": [
    "last = train.data.iloc[-1]\n",
    "last"
   ]
  },
  {
   "cell_type": "code",
   "execution_count": 25,
   "id": "0051272c",
   "metadata": {},
   "outputs": [
    {
     "name": "stderr",
     "output_type": "stream",
     "text": [
      "/var/folders/5r/60f9npy54bz3_gzp5pkztxzw0000gn/T/ipykernel_9149/155972364.py:1: SettingWithCopyWarning: \n",
      "A value is trying to be set on a copy of a slice from a DataFrame.\n",
      "Try using .loc[row_indexer,col_indexer] = value instead\n",
      "\n",
      "See the caveats in the documentation: https://pandas.pydata.org/pandas-docs/stable/user_guide/indexing.html#returning-a-view-versus-a-copy\n",
      "  test.loc[:, 'pred_last'] = last\n"
     ]
    }
   ],
   "source": [
    "test.loc[:, 'pred_last'] = last"
   ]
  },
  {
   "cell_type": "code",
   "execution_count": 26,
   "id": "0414c28e",
   "metadata": {},
   "outputs": [
    {
     "data": {
      "text/plain": [
       "30.45727790860653"
      ]
     },
     "execution_count": 26,
     "metadata": {},
     "output_type": "execute_result"
    }
   ],
   "source": [
    "mape_last_year_mean = mape(test['data'], test['pred_last'])\n",
    "mape_last_year_mean"
   ]
  },
  {
   "cell_type": "markdown",
   "id": "fb981ad1",
   "metadata": {},
   "source": [
    "i'm not even gonna graph it, the mape is bigger so this approach is worse. This is explained by the fact that the EPS displays a cyclical behaviour, where it is high during the first three questers and then falls at the last one."
   ]
  },
  {
   "cell_type": "markdown",
   "id": "b6851c35",
   "metadata": {},
   "source": [
    "## another baseline, naive seasonal forecast"
   ]
  },
  {
   "cell_type": "markdown",
   "id": "25bd0637",
   "metadata": {},
   "source": [
    "takes the last observed cycle and repeats it into the future. so we take each quarter of 1979 and predict the one from 1980 will be the same"
   ]
  },
  {
   "cell_type": "code",
   "execution_count": 27,
   "id": "e141f75b",
   "metadata": {},
   "outputs": [
    {
     "name": "stderr",
     "output_type": "stream",
     "text": [
      "/var/folders/5r/60f9npy54bz3_gzp5pkztxzw0000gn/T/ipykernel_9149/422051038.py:1: SettingWithCopyWarning: \n",
      "A value is trying to be set on a copy of a slice from a DataFrame.\n",
      "Try using .loc[row_indexer,col_indexer] = value instead\n",
      "\n",
      "See the caveats in the documentation: https://pandas.pydata.org/pandas-docs/stable/user_guide/indexing.html#returning-a-view-versus-a-copy\n",
      "  test.loc[:, 'pred_last_season'] = train['data'][-4:].values\n"
     ]
    }
   ],
   "source": [
    "test.loc[:, 'pred_last_season'] = train['data'][-4:].values"
   ]
  },
  {
   "cell_type": "code",
   "execution_count": 28,
   "id": "9c326407",
   "metadata": {},
   "outputs": [
    {
     "data": {
      "text/html": [
       "<div>\n",
       "<style scoped>\n",
       "    .dataframe tbody tr th:only-of-type {\n",
       "        vertical-align: middle;\n",
       "    }\n",
       "\n",
       "    .dataframe tbody tr th {\n",
       "        vertical-align: top;\n",
       "    }\n",
       "\n",
       "    .dataframe thead th {\n",
       "        text-align: right;\n",
       "    }\n",
       "</style>\n",
       "<table border=\"1\" class=\"dataframe\">\n",
       "  <thead>\n",
       "    <tr style=\"text-align: right;\">\n",
       "      <th></th>\n",
       "      <th>date</th>\n",
       "      <th>data</th>\n",
       "      <th>pred_mean</th>\n",
       "      <th>pred_last_yr_mean</th>\n",
       "      <th>pred_last</th>\n",
       "      <th>pred_last_season</th>\n",
       "    </tr>\n",
       "  </thead>\n",
       "  <tbody>\n",
       "    <tr>\n",
       "      <th>80</th>\n",
       "      <td>1980-01-01</td>\n",
       "      <td>16.20</td>\n",
       "      <td>4.3085</td>\n",
       "      <td>12.96</td>\n",
       "      <td>9.99</td>\n",
       "      <td>14.04</td>\n",
       "    </tr>\n",
       "    <tr>\n",
       "      <th>81</th>\n",
       "      <td>1980-04-01</td>\n",
       "      <td>14.67</td>\n",
       "      <td>4.3085</td>\n",
       "      <td>12.96</td>\n",
       "      <td>9.99</td>\n",
       "      <td>12.96</td>\n",
       "    </tr>\n",
       "    <tr>\n",
       "      <th>82</th>\n",
       "      <td>1980-07-02</td>\n",
       "      <td>16.02</td>\n",
       "      <td>4.3085</td>\n",
       "      <td>12.96</td>\n",
       "      <td>9.99</td>\n",
       "      <td>14.85</td>\n",
       "    </tr>\n",
       "    <tr>\n",
       "      <th>83</th>\n",
       "      <td>1980-10-01</td>\n",
       "      <td>11.61</td>\n",
       "      <td>4.3085</td>\n",
       "      <td>12.96</td>\n",
       "      <td>9.99</td>\n",
       "      <td>9.99</td>\n",
       "    </tr>\n",
       "  </tbody>\n",
       "</table>\n",
       "</div>"
      ],
      "text/plain": [
       "          date   data  pred_mean  pred_last_yr_mean  pred_last  \\\n",
       "80  1980-01-01  16.20     4.3085              12.96       9.99   \n",
       "81  1980-04-01  14.67     4.3085              12.96       9.99   \n",
       "82  1980-07-02  16.02     4.3085              12.96       9.99   \n",
       "83  1980-10-01  11.61     4.3085              12.96       9.99   \n",
       "\n",
       "    pred_last_season  \n",
       "80             14.04  \n",
       "81             12.96  \n",
       "82             14.85  \n",
       "83              9.99  "
      ]
     },
     "execution_count": 28,
     "metadata": {},
     "output_type": "execute_result"
    }
   ],
   "source": [
    "test"
   ]
  },
  {
   "cell_type": "code",
   "execution_count": 29,
   "id": "82e3da38",
   "metadata": {},
   "outputs": [
    {
     "data": {
      "text/plain": [
       "11.561658552433652"
      ]
     },
     "execution_count": 29,
     "metadata": {},
     "output_type": "execute_result"
    }
   ],
   "source": [
    "mape_last_year_mean = mape(test['data'], test['pred_last_season'])\n",
    "mape_last_year_mean"
   ]
  },
  {
   "cell_type": "code",
   "execution_count": 30,
   "id": "5ba6708a",
   "metadata": {},
   "outputs": [
    {
     "data": {
      "image/png": "[encoded data removed]",
      "text/plain": [
       "<Figure size 640x480 with 1 Axes>"
      ]
     },
     "metadata": {},
     "output_type": "display_data"
    }
   ],
   "source": [
    "fig, ax = plt.subplots()\n",
    "\n",
    "ax.plot(train['date'], train['data'], 'g-.', label = 'train')\n",
    "ax.plot(test['date'], test['data'], 'b-', label = 'test')\n",
    "ax.plot(test['date'], test['pred_last_season'], 'r--', label = 'predicted')\n",
    "ax.set_xlabel('date')\n",
    "ax.set_ylabel('earnings per share (usb)')\n",
    "\n",
    "# 80 to 83 beacuse check df.tail\n",
    "ax.axvspan(80, 83, color = '#808080', alpha = 0.2)\n",
    "ax.legend(loc = 2)\n",
    "\n",
    "plt.xticks(\n",
    "    np.arange(0, 85, 8), \n",
    "    [1960, 1962, 1964, 1966, 1968, 1970, 1972, 1974, 1976, 1978, 1980]\n",
    ")\n",
    "\n",
    "fig.autofmt_xdate()\n",
    "plt.tight_layout()"
   ]
  },
  {
   "cell_type": "markdown",
   "id": "a3d39660",
   "metadata": {},
   "source": [
    "our naive seasonal forecast resulted in the lowest MAPE of all the baselines we did. This means that seasonality has a significant impact on future values since repeating the las tseason into the future yields fairly accurate forecasts."
   ]
  },
  {
   "cell_type": "code",
   "execution_count": null,
   "id": "29e545e9",
   "metadata": {},
   "outputs": [],
   "source": []
  }
 ],
 "metadata": {
  "kernelspec": {
   "display_name": "Python 3 (ipykernel)",
   "language": "python",
   "name": "python3"
  },
  "language_info": {
   "codemirror_mode": {
    "name": "ipython",
    "version": 3
   },
   "file_extension": ".py",
   "mimetype": "text/x-python",
   "name": "python",
   "nbconvert_exporter": "python",
   "pygments_lexer": "ipython3",
   "version": "3.11.2"
  }
 },
 "nbformat": 4,
 "nbformat_minor": 5
}
